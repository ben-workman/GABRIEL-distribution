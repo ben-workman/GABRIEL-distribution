{
 "cells": [
  {
   "cell_type": "code",
   "execution_count": 1,
   "metadata": {},
   "outputs": [],
   "source": [
    "from gabriel.combined_assistant import CombinedAssistant\n",
    "import os\n",
    "\n",
    "api_key = ''"
   ]
  },
  {
   "cell_type": "code",
   "execution_count": 2,
   "metadata": {},
   "outputs": [],
   "source": [
    "from gabriel.archangel import Archangel"
   ]
  },
  {
   "cell_type": "code",
   "execution_count": 3,
   "metadata": {},
   "outputs": [
    {
     "data": {
      "text/plain": [
       "{'entity category': 'song', 'attribute category': 'sentiment'}"
      ]
     },
     "execution_count": 3,
     "metadata": {},
     "output_type": "execute_result"
    }
   ],
   "source": [
    "from gabriel.foundational_functions import *\n",
    "import json\n",
    "# from decorators import with_prompt\n",
    "json.loads(identify_categories(task_description= 'I am analyzing sentiment in songs', api_key = api_key))"
   ]
  },
  {
   "cell_type": "code",
   "execution_count": 4,
   "metadata": {},
   "outputs": [],
   "source": [
    "from sklearn.datasets import fetch_20newsgroups\n",
    "twenty_train = fetch_20newsgroups(subset='train',shuffle=True, random_state=42, categories =['talk.politics.misc'])"
   ]
  },
  {
   "cell_type": "code",
   "execution_count": 5,
   "metadata": {},
   "outputs": [],
   "source": [
    "import pandas as pd\n",
    "texts = pd.DataFrame(twenty_train.data)[0]"
   ]
  },
  {
   "cell_type": "code",
   "execution_count": 8,
   "metadata": {},
   "outputs": [
    {
     "name": "stderr",
     "output_type": "stream",
     "text": [
      "/Users/elliottmokski/opt/anaconda3/lib/python3.8/site-packages/gabriel/archangel.py:57: UserWarning: Reset Files is set to True. Your files will be overwritten.\n",
      "  warnings.warn(\"Reset Files is set to True. Your files will be overwritten.\")\n"
     ]
    },
    {
     "name": "stdout",
     "output_type": "stream",
     "text": [
      "Creating a new file at /Users/elliottmokski/Downloads/sk_learn_politics2.csv\n",
      "Extracting categories for task: I am analyzing political lean in online news forums.\n"
     ]
    },
    {
     "name": "stderr",
     "output_type": "stream",
     "text": [
      "  0%|          | 0/1 [00:00<?, ?it/s]"
     ]
    },
    {
     "name": "stdout",
     "output_type": "stream",
     "text": [
      "Here are the parameters for this run:\n",
      "\n",
      "{\n",
      "    \"model\": \"gpt-3.5-turbo\",\n",
      "    \"n_parallel\": 50,\n",
      "    \"num_runs\": 10,\n",
      "    \"rate_first\": false,\n",
      "    \"temperature\": 0.8,\n",
      "    \"timeout\": 75,\n",
      "    \"truncate_len\": 5000,\n",
      "    \"seed\": null,\n",
      "    \"truncate\": true,\n",
      "    \"format\": \"json\",\n",
      "    \"batch_len\": 50\n",
      "}\n",
      "The output file will be saved at: /Users/elliottmokski/Downloads//sk_learn_politics2.csv\n",
      "Rough estimated cost in dollars: 0.105\n"
     ]
    },
    {
     "name": "stderr",
     "output_type": "stream",
     "text": [
      "100%|██████████| 1/1 [00:05<00:00,  5.71s/it]\n"
     ]
    }
   ],
   "source": [
    "task_description = \"I am analyzing political lean in online news forums.\"\n",
    "attribute_dict = {\n",
    "    'talks about politics': \"The 'talks about politics' attribute quantifies the extent to which the text is focused on political issues, debates, or events. It is high when politics is a central theme of the discussion, medium when politics is mentioned alongside other topics, and low or zero when politics is not mentioned at all.\",\n",
    "    'democratic leaning': \"The 'democratic leaning' attribute assesses the degree to which the text aligns with or supports values, policies, or figures associated with the Democratic Party. It is high when there is clear support or positive sentiment towards Democratic positions, low when there is minimal or indirect support, and zero when there is no alignment with Democratic views. You should infer this and rate if there in any implicit or explicit support for Democratic views. \",\n",
    "    'republican leaning': \"The 'republican leaning' attribute evaluates the extent to which the text aligns with or supports values, policies, or figures associated with the Republican Party. It is high when there is evident support or positive sentiment towards Republican positions, low when the support is minimal or indirect, and zero when there is no alignment with Republican views. You should infer this and rate if there in any implicit or explicit support for Republican views.\",\n",
    "    'exhibits anger': \"The 'exhibits anger' attribute measures the presence and intensity of anger in the text. It is high when the text displays strong feelings of anger or frustration, especially towards political figures, policies, or events; medium when anger is present but not the dominant emotion; and low or zero when there is no anger.\",\n",
    "    'exhibits rationality': \"The 'exhibits rationality' attribute determines the level of logical reasoning, evidence-based arguments, and objective analysis in the text. It is high when the text is characterized by clear, rational thought processes and a focus on facts; medium when rationality is present but mixed with subjective opinions; and low or zero when the text lacks rational argumentation or is primarily emotional.\"\n",
    "}\n",
    "archangel = Archangel(api_key = api_key)\n",
    "output_df = archangel.rate_texts(texts[:30], reset_files = True, task_description = task_description, attribute_dict= attribute_dict, save_folder = '/Users/elliottmokski/Downloads/', file_name = 'sk_learn_politics2.csv')"
   ]
  },
  {
   "cell_type": "code",
   "execution_count": 10,
   "metadata": {},
   "outputs": [
    {
     "name": "stderr",
     "output_type": "stream",
     "text": [
      "/Users/elliottmokski/opt/anaconda3/lib/python3.8/site-packages/gabriel/archangel.py:54: UserWarning: Reset Files is set to True. Your files will be overwritten.\n",
      "  warnings.warn(\"Reset Files is set to True. Your files will be overwritten.\")\n"
     ]
    },
    {
     "name": "stdout",
     "output_type": "stream",
     "text": [
      "Creating a new file at /Users/elliottmokski/Downloads/archangel_test1.csv\n",
      "Extracting categories for task: I am rating sentiment in short stories\n"
     ]
    },
    {
     "name": "stderr",
     "output_type": "stream",
     "text": [
      "  0%|          | 0/1 [00:00<?, ?it/s]"
     ]
    },
    {
     "name": "stdout",
     "output_type": "stream",
     "text": [
      "Here are the parameters for this run:\n",
      "\n",
      "{\n",
      "    \"model\": \"gpt-3.5-turbo\",\n",
      "    \"n_parallel\": 50,\n",
      "    \"num_runs\": 10,\n",
      "    \"rate_first\": false,\n",
      "    \"temperature\": 0.8,\n",
      "    \"timeout\": 75,\n",
      "    \"truncate_len\": 5000,\n",
      "    \"seed\": null,\n",
      "    \"truncate\": true,\n",
      "    \"format\": \"json\",\n",
      "    \"batch_len\": 50\n",
      "}\n",
      "The output file will be saved at: /Users/elliottmokski/Downloads//archangel_test1.csv\n",
      "Rough estimated cost in dollars: 0.017\n"
     ]
    },
    {
     "name": "stderr",
     "output_type": "stream",
     "text": [
      "100%|██████████| 1/1 [00:01<00:00,  1.99s/it]\n"
     ]
    },
    {
     "data": {
      "text/html": [
       "<div>\n",
       "<style scoped>\n",
       "    .dataframe tbody tr th:only-of-type {\n",
       "        vertical-align: middle;\n",
       "    }\n",
       "\n",
       "    .dataframe tbody tr th {\n",
       "        vertical-align: top;\n",
       "    }\n",
       "\n",
       "    .dataframe thead th {\n",
       "        text-align: right;\n",
       "    }\n",
       "</style>\n",
       "<table border=\"1\" class=\"dataframe\">\n",
       "  <thead>\n",
       "    <tr style=\"text-align: right;\">\n",
       "      <th></th>\n",
       "      <th>Text</th>\n",
       "      <th>happy</th>\n",
       "      <th>sad</th>\n",
       "      <th>internal logic for gpt eyes only</th>\n",
       "    </tr>\n",
       "  </thead>\n",
       "  <tbody>\n",
       "    <tr>\n",
       "      <th>0</th>\n",
       "      <td>This is a funny story</td>\n",
       "      <td>90.0</td>\n",
       "      <td>0.0</td>\n",
       "      <td>The passage is very brief and straightforward,...</td>\n",
       "    </tr>\n",
       "    <tr>\n",
       "      <th>1</th>\n",
       "      <td>This is a sad story</td>\n",
       "      <td>0.0</td>\n",
       "      <td>100.0</td>\n",
       "      <td>The passage is a succinct statement indicating...</td>\n",
       "    </tr>\n",
       "    <tr>\n",
       "      <th>2</th>\n",
       "      <td>John broke his leg</td>\n",
       "      <td>5.0</td>\n",
       "      <td>90.0</td>\n",
       "      <td>The passage featuring John breaking his leg do...</td>\n",
       "    </tr>\n",
       "    <tr>\n",
       "      <th>3</th>\n",
       "      <td>Archangel is a great tool</td>\n",
       "      <td>12.0</td>\n",
       "      <td>7.0</td>\n",
       "      <td>The passage consists of the simple statement '...</td>\n",
       "    </tr>\n",
       "    <tr>\n",
       "      <th>4</th>\n",
       "      <td>Archangel is a bad tool</td>\n",
       "      <td>10.0</td>\n",
       "      <td>90.0</td>\n",
       "      <td>Upon analyzing the passage 'Archangel is a bad...</td>\n",
       "    </tr>\n",
       "  </tbody>\n",
       "</table>\n",
       "</div>"
      ],
      "text/plain": [
       "                        Text  happy    sad  \\\n",
       "0      This is a funny story   90.0    0.0   \n",
       "1        This is a sad story    0.0  100.0   \n",
       "2         John broke his leg    5.0   90.0   \n",
       "3  Archangel is a great tool   12.0    7.0   \n",
       "4    Archangel is a bad tool   10.0   90.0   \n",
       "\n",
       "                    internal logic for gpt eyes only  \n",
       "0  The passage is very brief and straightforward,...  \n",
       "1  The passage is a succinct statement indicating...  \n",
       "2  The passage featuring John breaking his leg do...  \n",
       "3  The passage consists of the simple statement '...  \n",
       "4  Upon analyzing the passage 'Archangel is a bad...  "
      ]
     },
     "execution_count": 10,
     "metadata": {},
     "output_type": "execute_result"
    }
   ],
   "source": [
    "archangel = Archangel(api_key = api_key)\n",
    "texts = ['This is a funny story' , \"This is a sad story\",\"John broke his leg\",'Archangel is a great tool','Archangel is a bad tool']\n",
    "attribute_dict = {'happy':'happiness refers to joy and positivity','sad':'sad refers to sadness'}\n",
    "task_description = 'I am rating sentiment in short stories'\n",
    "archangel.rate_texts(texts, reset_files = True, task_description = task_description, attribute_dict= attribute_dict, save_folder = '/Users/elliottmokski/Downloads/', file_name = 'archangel_test1.csv')"
   ]
  },
  {
   "cell_type": "code",
   "execution_count": 5,
   "metadata": {},
   "outputs": [],
   "source": [
    "attribute_dict = {'happy':'happiness refers to joy and positivity','sad':'sad refers to sadness'}\n",
    "\n",
    "params = {\n",
    "    'entity_category': '', 'attribute_category': '', 'api_key': api_key,\n",
    "    'model': 'gpt-3.5-turbo', 'temperature': 0.8,\n",
    "    'use_classification': False, 'format': 'json', 'project_probs': False, 'truncate': True,\n",
    "    'seed': None, 'timeout': 75, 'truncate_len': 9500, 'classification_clarification':'','text':'John broke his foot'\n",
    "}\n",
    "\n",
    "assistant = CombinedAssistant(api_key = api_key)\n",
    "output_df = assistant.rate_single_text(attribute_dict= attribute_dict, **params)"
   ]
  },
  {
   "cell_type": "code",
   "execution_count": 5,
   "metadata": {},
   "outputs": [],
   "source": [
    "import pandas as pd\n",
    "imdb = pd.read_csv('/Users/elliottmokski/Downloads/IMDB Dataset.csv')"
   ]
  },
  {
   "cell_type": "code",
   "execution_count": 6,
   "metadata": {},
   "outputs": [
    {
     "name": "stderr",
     "output_type": "stream",
     "text": [
      "/Users/elliottmokski/opt/anaconda3/lib/python3.8/site-packages/GABRIEL/archangel.py:54: UserWarning: Reset Files is set to True. Your files will be overwritten.\n",
      "  warnings.warn(\"Reset Files is set to True. Your files will be overwritten.\")\n"
     ]
    },
    {
     "name": "stdout",
     "output_type": "stream",
     "text": [
      "Creating a new file at /Users/elliottmokski/Downloads/imdb_test.csv\n",
      "Extracting categories for task: I am rating sentiment in IMBD reviews\n"
     ]
    },
    {
     "name": "stderr",
     "output_type": "stream",
     "text": [
      "  0%|          | 0/2 [00:00<?, ?it/s]"
     ]
    },
    {
     "name": "stdout",
     "output_type": "stream",
     "text": [
      "Here are the parameters for this run:\n",
      "\n",
      "{\n",
      "    \"model\": \"gpt-3.5-turbo\",\n",
      "    \"n_parallel\": 50,\n",
      "    \"num_runs\": 10,\n",
      "    \"rate_first\": false,\n",
      "    \"temperature\": 0.8,\n",
      "    \"timeout\": 75,\n",
      "    \"truncate_len\": 5000,\n",
      "    \"seed\": null,\n",
      "    \"truncate\": true,\n",
      "    \"format\": \"json\",\n",
      "    \"batch_len\": 50\n",
      "}\n",
      "The output file will be saved at: /Users/elliottmokski/Downloads//imdb_test.csv\n",
      "Rough estimated cost in dollars: 0.348\n"
     ]
    },
    {
     "name": "stderr",
     "output_type": "stream",
     "text": [
      "100%|██████████| 2/2 [00:10<00:00,  5.49s/it]\n"
     ]
    },
    {
     "data": {
      "text/html": [
       "<div>\n",
       "<style scoped>\n",
       "    .dataframe tbody tr th:only-of-type {\n",
       "        vertical-align: middle;\n",
       "    }\n",
       "\n",
       "    .dataframe tbody tr th {\n",
       "        vertical-align: top;\n",
       "    }\n",
       "\n",
       "    .dataframe thead th {\n",
       "        text-align: right;\n",
       "    }\n",
       "</style>\n",
       "<table border=\"1\" class=\"dataframe\">\n",
       "  <thead>\n",
       "    <tr style=\"text-align: right;\">\n",
       "      <th></th>\n",
       "      <th>Text</th>\n",
       "      <th>happy</th>\n",
       "      <th>sad</th>\n",
       "      <th>positivity</th>\n",
       "      <th>negativity</th>\n",
       "      <th>discusses food</th>\n",
       "      <th>internal logic for gpt eyes only</th>\n",
       "    </tr>\n",
       "  </thead>\n",
       "  <tbody>\n",
       "    <tr>\n",
       "      <th>0</th>\n",
       "      <td>One of the other reviewers has mentioned that ...</td>\n",
       "      <td>12.0</td>\n",
       "      <td>62.0</td>\n",
       "      <td>35.0</td>\n",
       "      <td>78.0</td>\n",
       "      <td>0.0</td>\n",
       "      <td>Upon analyzing the movie review passage, it is...</td>\n",
       "    </tr>\n",
       "    <tr>\n",
       "      <th>1</th>\n",
       "      <td>A wonderful little production. &lt;br /&gt;&lt;br /&gt;The...</td>\n",
       "      <td>83.0</td>\n",
       "      <td>12.0</td>\n",
       "      <td>92.0</td>\n",
       "      <td>14.0</td>\n",
       "      <td>0.0</td>\n",
       "      <td>The passage exudes a mix of nostalgic apprecia...</td>\n",
       "    </tr>\n",
       "    <tr>\n",
       "      <th>2</th>\n",
       "      <td>I thought this was a wonderful way to spend ti...</td>\n",
       "      <td>78.0</td>\n",
       "      <td>12.0</td>\n",
       "      <td>86.0</td>\n",
       "      <td>14.0</td>\n",
       "      <td>5.0</td>\n",
       "      <td>The movie review passage conveys a generally p...</td>\n",
       "    </tr>\n",
       "    <tr>\n",
       "      <th>3</th>\n",
       "      <td>Basically there's a family where a little boy ...</td>\n",
       "      <td>10.0</td>\n",
       "      <td>58.0</td>\n",
       "      <td>32.0</td>\n",
       "      <td>60.0</td>\n",
       "      <td>0.0</td>\n",
       "      <td>The passage describes a family scenario with a...</td>\n",
       "    </tr>\n",
       "    <tr>\n",
       "      <th>4</th>\n",
       "      <td>Petter Mattei's \"Love in the Time of Money\" is...</td>\n",
       "      <td>32.0</td>\n",
       "      <td>32.0</td>\n",
       "      <td>48.0</td>\n",
       "      <td>52.0</td>\n",
       "      <td>0.0</td>\n",
       "      <td>The movie review passage paints a sophisticate...</td>\n",
       "    </tr>\n",
       "    <tr>\n",
       "      <th>...</th>\n",
       "      <td>...</td>\n",
       "      <td>...</td>\n",
       "      <td>...</td>\n",
       "      <td>...</td>\n",
       "      <td>...</td>\n",
       "      <td>...</td>\n",
       "      <td>...</td>\n",
       "    </tr>\n",
       "    <tr>\n",
       "      <th>95</th>\n",
       "      <td>Daniel Day-Lewis is the most versatile actor a...</td>\n",
       "      <td>85.0</td>\n",
       "      <td>12.0</td>\n",
       "      <td>92.0</td>\n",
       "      <td>18.0</td>\n",
       "      <td>0.0</td>\n",
       "      <td>The movie review passage showcases a mix of se...</td>\n",
       "    </tr>\n",
       "    <tr>\n",
       "      <th>96</th>\n",
       "      <td>My guess would be this was originally going to...</td>\n",
       "      <td>12.0</td>\n",
       "      <td>6.0</td>\n",
       "      <td>9.0</td>\n",
       "      <td>87.0</td>\n",
       "      <td>0.0</td>\n",
       "      <td>The movie review passage critiques the film fo...</td>\n",
       "    </tr>\n",
       "    <tr>\n",
       "      <th>97</th>\n",
       "      <td>Well, I like to watch bad horror B-Movies, cau...</td>\n",
       "      <td>5.0</td>\n",
       "      <td>70.0</td>\n",
       "      <td>10.0</td>\n",
       "      <td>90.0</td>\n",
       "      <td>0.0</td>\n",
       "      <td>The movie review passage exhibits a predominan...</td>\n",
       "    </tr>\n",
       "    <tr>\n",
       "      <th>98</th>\n",
       "      <td>This IS the worst movie I have ever seen, as w...</td>\n",
       "      <td>5.0</td>\n",
       "      <td>90.0</td>\n",
       "      <td>3.0</td>\n",
       "      <td>95.0</td>\n",
       "      <td>0.0</td>\n",
       "      <td>The movie review passage is filled with overwh...</td>\n",
       "    </tr>\n",
       "    <tr>\n",
       "      <th>99</th>\n",
       "      <td>I have been a Mario fan for as long as I can r...</td>\n",
       "      <td>73.0</td>\n",
       "      <td>12.0</td>\n",
       "      <td>86.0</td>\n",
       "      <td>21.0</td>\n",
       "      <td>14.0</td>\n",
       "      <td>Upon analyzing the passage, it is evident that...</td>\n",
       "    </tr>\n",
       "  </tbody>\n",
       "</table>\n",
       "<p>100 rows × 7 columns</p>\n",
       "</div>"
      ],
      "text/plain": [
       "                                                 Text  happy   sad  \\\n",
       "0   One of the other reviewers has mentioned that ...   12.0  62.0   \n",
       "1   A wonderful little production. <br /><br />The...   83.0  12.0   \n",
       "2   I thought this was a wonderful way to spend ti...   78.0  12.0   \n",
       "3   Basically there's a family where a little boy ...   10.0  58.0   \n",
       "4   Petter Mattei's \"Love in the Time of Money\" is...   32.0  32.0   \n",
       "..                                                ...    ...   ...   \n",
       "95  Daniel Day-Lewis is the most versatile actor a...   85.0  12.0   \n",
       "96  My guess would be this was originally going to...   12.0   6.0   \n",
       "97  Well, I like to watch bad horror B-Movies, cau...    5.0  70.0   \n",
       "98  This IS the worst movie I have ever seen, as w...    5.0  90.0   \n",
       "99  I have been a Mario fan for as long as I can r...   73.0  12.0   \n",
       "\n",
       "    positivity  negativity  discusses food  \\\n",
       "0         35.0        78.0             0.0   \n",
       "1         92.0        14.0             0.0   \n",
       "2         86.0        14.0             5.0   \n",
       "3         32.0        60.0             0.0   \n",
       "4         48.0        52.0             0.0   \n",
       "..         ...         ...             ...   \n",
       "95        92.0        18.0             0.0   \n",
       "96         9.0        87.0             0.0   \n",
       "97        10.0        90.0             0.0   \n",
       "98         3.0        95.0             0.0   \n",
       "99        86.0        21.0            14.0   \n",
       "\n",
       "                     internal logic for gpt eyes only  \n",
       "0   Upon analyzing the movie review passage, it is...  \n",
       "1   The passage exudes a mix of nostalgic apprecia...  \n",
       "2   The movie review passage conveys a generally p...  \n",
       "3   The passage describes a family scenario with a...  \n",
       "4   The movie review passage paints a sophisticate...  \n",
       "..                                                ...  \n",
       "95  The movie review passage showcases a mix of se...  \n",
       "96  The movie review passage critiques the film fo...  \n",
       "97  The movie review passage exhibits a predominan...  \n",
       "98  The movie review passage is filled with overwh...  \n",
       "99  Upon analyzing the passage, it is evident that...  \n",
       "\n",
       "[100 rows x 7 columns]"
      ]
     },
     "execution_count": 6,
     "metadata": {},
     "output_type": "execute_result"
    }
   ],
   "source": [
    "attribute_dict = {\"happy\": \"\"\"The 'happy' attribute refers to the extent to which the text has a positive or happy attitude. It is high if the text manifest a clearly jovial or positive sentiment.\"\"\",\n",
    "                  \"sad\":\"The 'sad' attribute refers to whether the text has an overall sad or glum sentiment. It is high if the text showcases a largely sad or depressing sentiment.\",\n",
    "                  \"positivity\":\"The 'positivity' attribute refers to the extent to which the text has a positive or supportive attitude towards the film, indicating that the reviewer has a high opinion of the film\",\n",
    "                \"negativity\":\"The 'negativity' attribute refers to the extent to which the text has a negative attitude towards the film, indicating that the reviewer did not enjoy the film or has a low opinion of it\",\n",
    "                  \"discusses food\": \"The 'discusses food' attribute is high when the text in question mentions food a lot or otherwise focuses on food. It is low if food mentions are rare, and 0 if there is no mention or allusion to food at all.\"}\n",
    "archangel = Archangel(api_key = api_key)\n",
    "texts = imdb['review'][:100]\n",
    "task_description = 'I am rating sentiment in IMBD reviews'\n",
    "archangel.rate_texts(texts, reset_files = True, task_description = task_description, attribute_dict= attribute_dict, save_folder = '/Users/elliottmokski/Downloads/', file_name = 'imdb_test.csv')"
   ]
  }
 ],
 "metadata": {
  "kernelspec": {
   "display_name": "base",
   "language": "python",
   "name": "python3"
  },
  "language_info": {
   "codemirror_mode": {
    "name": "ipython",
    "version": 3
   },
   "file_extension": ".py",
   "mimetype": "text/x-python",
   "name": "python",
   "nbconvert_exporter": "python",
   "pygments_lexer": "ipython3",
   "version": "3.8.5"
  }
 },
 "nbformat": 4,
 "nbformat_minor": 2
}
