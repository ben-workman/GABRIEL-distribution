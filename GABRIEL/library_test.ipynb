{
 "cells": [
  {
   "cell_type": "code",
   "execution_count": 5,
   "metadata": {},
   "outputs": [],
   "source": [
    "from GABRIEL.combined_assistant import CombinedAssistant\n",
    "import os\n",
    "\n",
    "api_key = os.getenv('OPENAI_API_KEY')"
   ]
  },
  {
   "cell_type": "code",
   "execution_count": 11,
   "metadata": {},
   "outputs": [],
   "source": [
    "from GABRIEL.archangel import Archangel"
   ]
  },
  {
   "cell_type": "code",
   "execution_count": 12,
   "metadata": {},
   "outputs": [
    {
     "name": "stderr",
     "output_type": "stream",
     "text": [
      "  0%|          | 0/5 [00:00<?, ?it/s]"
     ]
    },
    {
     "name": "stdout",
     "output_type": "stream",
     "text": [
      "Here are the parameters for this run:\n",
      "\n",
      "{\n",
      "    \"model\": \"gpt-3.5-turbo\",\n",
      "    \"n_parallel\": 50,\n",
      "    \"num_runs\": 10,\n",
      "    \"rate_first\": false,\n",
      "    \"temperature\": 0.8,\n",
      "    \"timeout\": 75,\n",
      "    \"truncate_len\": 9500,\n",
      "    \"seed\": null,\n",
      "    \"truncate\": true,\n",
      "    \"format\": \"json\"\n",
      "}\n",
      "The output file will be saved at: /Users/elliottmokski/Downloads//archangel_test.csv\n",
      "Estimated cost: 0.0\n"
     ]
    },
    {
     "name": "stderr",
     "output_type": "stream",
     "text": [
      "100%|██████████| 5/5 [00:01<00:00,  4.21it/s]\n"
     ]
    },
    {
     "data": {
      "text/html": [
       "<div>\n",
       "<style scoped>\n",
       "    .dataframe tbody tr th:only-of-type {\n",
       "        vertical-align: middle;\n",
       "    }\n",
       "\n",
       "    .dataframe tbody tr th {\n",
       "        vertical-align: top;\n",
       "    }\n",
       "\n",
       "    .dataframe thead th {\n",
       "        text-align: right;\n",
       "    }\n",
       "</style>\n",
       "<table border=\"1\" class=\"dataframe\">\n",
       "  <thead>\n",
       "    <tr style=\"text-align: right;\">\n",
       "      <th></th>\n",
       "      <th>Text</th>\n",
       "      <th>happy</th>\n",
       "      <th>sad</th>\n",
       "    </tr>\n",
       "  </thead>\n",
       "  <tbody>\n",
       "    <tr>\n",
       "      <th>0</th>\n",
       "      <td>Archangel is a bad tool</td>\n",
       "      <td>0</td>\n",
       "      <td>100</td>\n",
       "    </tr>\n",
       "    <tr>\n",
       "      <th>1</th>\n",
       "      <td>John broke his leg</td>\n",
       "      <td>0</td>\n",
       "      <td>80</td>\n",
       "    </tr>\n",
       "    <tr>\n",
       "      <th>2</th>\n",
       "      <td>This is a sad story</td>\n",
       "      <td>0</td>\n",
       "      <td>100</td>\n",
       "    </tr>\n",
       "    <tr>\n",
       "      <th>3</th>\n",
       "      <td>This is a funny story</td>\n",
       "      <td>60</td>\n",
       "      <td>40</td>\n",
       "    </tr>\n",
       "    <tr>\n",
       "      <th>4</th>\n",
       "      <td>Archangel is a great tool</td>\n",
       "      <td>50</td>\n",
       "      <td>0</td>\n",
       "    </tr>\n",
       "  </tbody>\n",
       "</table>\n",
       "</div>"
      ],
      "text/plain": [
       "                        Text happy  sad\n",
       "0    Archangel is a bad tool     0  100\n",
       "1         John broke his leg     0   80\n",
       "2        This is a sad story     0  100\n",
       "3      This is a funny story    60   40\n",
       "4  Archangel is a great tool    50    0"
      ]
     },
     "execution_count": 12,
     "metadata": {},
     "output_type": "execute_result"
    }
   ],
   "source": [
    "archangel = Archangel()\n",
    "texts = ['This is a funny story' , \"This is a sad story\",\"John broke his leg\",'Archangel is a great tool','Archangel is a bad tool']\n",
    "attributes = ['happy, sad, angry, surprised, grateful']\n",
    "attribute_dict = {'happy':'happiness refers to joy and positivity','sad':'sad refers to sadness'}\n",
    "archangel.rate_texts(texts, attributes_dict= attribute_dict, save_folder = '/Users/elliottmokski/Downloads/', file_name = 'archangel_test.csv')"
   ]
  },
  {
   "cell_type": "code",
   "execution_count": 3,
   "metadata": {},
   "outputs": [
    {
     "name": "stdout",
     "output_type": "stream",
     "text": [
      "The api_key client option must be set either by passing api_key to the client or by setting the OPENAI_API_KEY environment variable\n"
     ]
    }
   ],
   "source": [
    "params = {\n",
    "    'object_category': '', 'attribute_category': '', 'api_key': api_key,\n",
    "    'descriptions': ['happiness refers to joy and positivity', 'sad refers to sadness'],\n",
    "    'attributes': ['happy', 'sad'], 'model': 'gpt-3.5-turbo', 'temperature': 0.8,\n",
    "    'use_classification': False, 'format': 'json', 'project_probs': False, 'truncate': True,\n",
    "    'seed': None, 'timeout': 75, 'truncate_len': 9500, 'classification_clarification':'','text':'John broke his foot'\n",
    "}\n",
    "\n",
    "assistant = CombinedAssistant(api_key=api_key)\n",
    "output_df = assistant.rate_single_text(**params)"
   ]
  },
  {
   "cell_type": "code",
   "execution_count": 6,
   "metadata": {},
   "outputs": [],
   "source": [
    "from GABRIEL import foundational_functions\n",
    "\n",
    "# Determine the path to the 'Prompts' folder dynamically\n",
    "package_dir = os.path.dirname(os.path.abspath(foundational_functions.__file__))\n",
    "templates_dir = os.path.join(package_dir, 'Prompts')"
   ]
  },
  {
   "cell_type": "code",
   "execution_count": 15,
   "metadata": {},
   "outputs": [],
   "source": [
    "combined_assistant = CombinedAssistant(api_key)"
   ]
  },
  {
   "cell_type": "code",
   "execution_count": 16,
   "metadata": {},
   "outputs": [
    {
     "name": "stdout",
     "output_type": "stream",
     "text": [
      "Attributes extracted\n",
      "Attributes ['happy, sad, angry, surprised, grateful']\n",
      "[\"In the context of None, the happy, sad, angry, surprised, grateful attribute could refer to a set of emotions or states of being experienced by an individual. These attributes may represent different emotional responses that can affect one's mood, behavior, and overall well-being.\"]\n",
      "Descriptions extracted, running ratings.\n",
      "                    Text happy  sad angry surprised grateful\n",
      "0  This is a funny story    10    5     2         7        1\n",
      "1    This is a sad story    10  100     0         5        0\n",
      "2     John broke his leg     0   90    70        10        0\n"
     ]
    },
    {
     "data": {
      "text/html": [
       "<div>\n",
       "<style scoped>\n",
       "    .dataframe tbody tr th:only-of-type {\n",
       "        vertical-align: middle;\n",
       "    }\n",
       "\n",
       "    .dataframe tbody tr th {\n",
       "        vertical-align: top;\n",
       "    }\n",
       "\n",
       "    .dataframe thead th {\n",
       "        text-align: right;\n",
       "    }\n",
       "</style>\n",
       "<table border=\"1\" class=\"dataframe\">\n",
       "  <thead>\n",
       "    <tr style=\"text-align: right;\">\n",
       "      <th></th>\n",
       "      <th>Text</th>\n",
       "      <th>happy</th>\n",
       "      <th>sad</th>\n",
       "      <th>angry</th>\n",
       "      <th>surprised</th>\n",
       "      <th>grateful</th>\n",
       "    </tr>\n",
       "  </thead>\n",
       "  <tbody>\n",
       "    <tr>\n",
       "      <th>0</th>\n",
       "      <td>This is a funny story</td>\n",
       "      <td>10</td>\n",
       "      <td>5</td>\n",
       "      <td>2</td>\n",
       "      <td>7</td>\n",
       "      <td>1</td>\n",
       "    </tr>\n",
       "    <tr>\n",
       "      <th>1</th>\n",
       "      <td>This is a sad story</td>\n",
       "      <td>10</td>\n",
       "      <td>100</td>\n",
       "      <td>0</td>\n",
       "      <td>5</td>\n",
       "      <td>0</td>\n",
       "    </tr>\n",
       "    <tr>\n",
       "      <th>2</th>\n",
       "      <td>John broke his leg</td>\n",
       "      <td>0</td>\n",
       "      <td>90</td>\n",
       "      <td>70</td>\n",
       "      <td>10</td>\n",
       "      <td>0</td>\n",
       "    </tr>\n",
       "  </tbody>\n",
       "</table>\n",
       "</div>"
      ],
      "text/plain": [
       "                    Text happy  sad angry surprised grateful\n",
       "0  This is a funny story    10    5     2         7        1\n",
       "1    This is a sad story    10  100     0         5        0\n",
       "2     John broke his leg     0   90    70        10        0"
      ]
     },
     "execution_count": 16,
     "metadata": {},
     "output_type": "execute_result"
    }
   ],
   "source": [
    "combined_assistant.simple_evaluation_pipeline(search_axis_1 = texts, attributes = attributes)"
   ]
  }
 ],
 "metadata": {
  "kernelspec": {
   "display_name": "base",
   "language": "python",
   "name": "python3"
  },
  "language_info": {
   "codemirror_mode": {
    "name": "ipython",
    "version": 3
   },
   "file_extension": ".py",
   "mimetype": "text/x-python",
   "name": "python",
   "nbconvert_exporter": "python",
   "pygments_lexer": "ipython3",
   "version": "3.8.5"
  }
 },
 "nbformat": 4,
 "nbformat_minor": 2
}
