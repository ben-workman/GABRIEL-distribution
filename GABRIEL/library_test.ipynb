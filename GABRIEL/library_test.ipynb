{
 "cells": [
  {
   "cell_type": "code",
   "execution_count": 15,
   "metadata": {},
   "outputs": [],
   "source": [
    "from GABRIEL.combined_assistant import CombinedAssistant\n",
    "import os\n",
    "\n",
    "api_key = os.getenv('OPENAI_API_KEY')"
   ]
  },
  {
   "cell_type": "code",
   "execution_count": 16,
   "metadata": {},
   "outputs": [],
   "source": [
    "from GABRIEL import foundational_functions\n",
    "\n",
    "# Determine the path to the 'Prompts' folder dynamically\n",
    "package_dir = os.path.dirname(os.path.abspath(foundational_functions.__file__))\n",
    "templates_dir = os.path.join(package_dir, 'Prompts')"
   ]
  },
  {
   "cell_type": "code",
   "execution_count": 20,
   "metadata": {},
   "outputs": [],
   "source": [
    "from jinja2 import Environment, FileSystemLoader, select_autoescape\n",
    "\n",
    "env = Environment(\n",
    "    loader=FileSystemLoader(templates_dir),\n",
    "    autoescape=select_autoescape()\n",
    ")"
   ]
  },
  {
   "cell_type": "code",
   "execution_count": 21,
   "metadata": {},
   "outputs": [],
   "source": [
    "combined_assistant = CombinedAssistant(api_key)"
   ]
  },
  {
   "cell_type": "code",
   "execution_count": 22,
   "metadata": {},
   "outputs": [],
   "source": [
    "texts = ['This is a funny story' , \"This is a sad story\",\"John broke his leg\"]\n",
    "attributes = ['happy, sad, angry, surprised, grateful']"
   ]
  },
  {
   "cell_type": "code",
   "execution_count": 14,
   "metadata": {},
   "outputs": [
    {
     "name": "stdout",
     "output_type": "stream",
     "text": [
      "Attributes extracted\n",
      "Attributes ['happy, sad, angry, surprised, grateful']\n",
      "Loading template from: /Users/elliottmokski/opt/anaconda3/lib/python3.8/site-packages/GABRIEL/Prompts\n",
      "[\"The happy, sad, angry, surprised, and grateful attributes are emotional states that can be associated with None, a placeholder object in programming. These attributes might represent different states of the program's execution or may be used to simulate a range of emotional responses in certain applications.\"]\n",
      "Descriptions extracted, running ratings.\n",
      "Loading template from: /Users/elliottmokski/opt/anaconda3/lib/python3.8/site-packages/GABRIEL/Prompts\n",
      "Loading template from: /Users/elliottmokski/opt/anaconda3/lib/python3.8/site-packages/GABRIEL/Prompts\n",
      "Loading template from: /Users/elliottmokski/opt/anaconda3/lib/python3.8/site-packages/GABRIEL/Prompts\n",
      "                    Text  happy  sad  angry  surprised  grateful\n",
      "0  This is a funny story     10    5      0         20         0\n",
      "1    This is a sad story      0  100      0          0         0\n",
      "2     John broke his leg      0   90     70         20         0\n"
     ]
    },
    {
     "data": {
      "text/html": [
       "<div>\n",
       "<style scoped>\n",
       "    .dataframe tbody tr th:only-of-type {\n",
       "        vertical-align: middle;\n",
       "    }\n",
       "\n",
       "    .dataframe tbody tr th {\n",
       "        vertical-align: top;\n",
       "    }\n",
       "\n",
       "    .dataframe thead th {\n",
       "        text-align: right;\n",
       "    }\n",
       "</style>\n",
       "<table border=\"1\" class=\"dataframe\">\n",
       "  <thead>\n",
       "    <tr style=\"text-align: right;\">\n",
       "      <th></th>\n",
       "      <th>Text</th>\n",
       "      <th>happy</th>\n",
       "      <th>sad</th>\n",
       "      <th>angry</th>\n",
       "      <th>surprised</th>\n",
       "      <th>grateful</th>\n",
       "    </tr>\n",
       "  </thead>\n",
       "  <tbody>\n",
       "    <tr>\n",
       "      <th>0</th>\n",
       "      <td>This is a funny story</td>\n",
       "      <td>10</td>\n",
       "      <td>5</td>\n",
       "      <td>0</td>\n",
       "      <td>20</td>\n",
       "      <td>0</td>\n",
       "    </tr>\n",
       "    <tr>\n",
       "      <th>1</th>\n",
       "      <td>This is a sad story</td>\n",
       "      <td>0</td>\n",
       "      <td>100</td>\n",
       "      <td>0</td>\n",
       "      <td>0</td>\n",
       "      <td>0</td>\n",
       "    </tr>\n",
       "    <tr>\n",
       "      <th>2</th>\n",
       "      <td>John broke his leg</td>\n",
       "      <td>0</td>\n",
       "      <td>90</td>\n",
       "      <td>70</td>\n",
       "      <td>20</td>\n",
       "      <td>0</td>\n",
       "    </tr>\n",
       "  </tbody>\n",
       "</table>\n",
       "</div>"
      ],
      "text/plain": [
       "                    Text  happy  sad  angry  surprised  grateful\n",
       "0  This is a funny story     10    5      0         20         0\n",
       "1    This is a sad story      0  100      0          0         0\n",
       "2     John broke his leg      0   90     70         20         0"
      ]
     },
     "execution_count": 14,
     "metadata": {},
     "output_type": "execute_result"
    }
   ],
   "source": [
    "combined_assistant.simple_evaluation_pipeline(search_axis_1 = texts, attributes = attributes)"
   ]
  }
 ],
 "metadata": {
  "kernelspec": {
   "display_name": "base",
   "language": "python",
   "name": "python3"
  },
  "language_info": {
   "codemirror_mode": {
    "name": "ipython",
    "version": 3
   },
   "file_extension": ".py",
   "mimetype": "text/x-python",
   "name": "python",
   "nbconvert_exporter": "python",
   "pygments_lexer": "ipython3",
   "version": "3.8.5"
  }
 },
 "nbformat": 4,
 "nbformat_minor": 2
}
