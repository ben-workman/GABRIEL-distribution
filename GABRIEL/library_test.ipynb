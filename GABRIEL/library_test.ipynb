{
 "cells": [
  {
   "cell_type": "markdown",
   "metadata": {},
   "source": [
    "## Ratings attempt"
   ]
  },
  {
   "cell_type": "code",
   "execution_count": 1,
   "metadata": {},
   "outputs": [],
   "source": [
    "from sklearn.datasets import fetch_20newsgroups\n",
    "twenty_train = fetch_20newsgroups(subset='train',shuffle=True, random_state=42, categories =['talk.politics.misc'])"
   ]
  },
  {
   "cell_type": "code",
   "execution_count": 2,
   "metadata": {},
   "outputs": [],
   "source": [
    "import pandas as pd\n",
    "texts = pd.DataFrame(twenty_train.data)[0]"
   ]
  },
  {
   "cell_type": "code",
   "execution_count": 3,
   "metadata": {},
   "outputs": [],
   "source": [
    "from gabriel.archangel import *"
   ]
  },
  {
   "cell_type": "code",
   "execution_count": null,
   "metadata": {},
   "outputs": [],
   "source": [
    "archangel = Archangel(api_key = '')"
   ]
  },
  {
   "cell_type": "code",
   "execution_count": 13,
   "metadata": {},
   "outputs": [
    {
     "name": "stdout",
     "output_type": "stream",
     "text": [
      "Estimated cost for this run: $0.1527 (includes reasoning, scaling factor=1.0)\n",
      "Created new file at /Users/elliottmokski/Downloads/analysis_results.csv\n",
      "Model used: o3-mini\n",
      "Total prompts to process: 10\n",
      "Truncated 0 prompts out of 10 (0.00%).\n"
     ]
    },
    {
     "name": "stderr",
     "output_type": "stream",
     "text": [
      "Processing prompts: 100%|██████████| 10/10 [00:24<00:00,  2.41s/it]"
     ]
    },
    {
     "name": "stdout",
     "output_type": "stream",
     "text": [
      "Results saved to /Users/elliottmokski/Downloads/analysis_results_responses.csv\n",
      "All responses saved to /Users/elliottmokski/Downloads/analysis_results_responses.csv\n",
      "\n",
      "Time taken summary (in seconds):\n",
      "0th percentile: 11.20\n",
      "10th percentile: 12.82\n",
      "25th percentile: 15.25\n",
      "50th percentile: 16.86\n",
      "75th percentile: 19.33\n",
      "90th percentile: 23.56\n",
      "95th percentile: 23.57\n",
      "99th percentile: 23.58\n",
      "100th percentile: 23.59\n"
     ]
    },
    {
     "name": "stderr",
     "output_type": "stream",
     "text": [
      "\n"
     ]
    }
   ],
   "source": [
    "# archangel = Archangel(api_key = api_key)\n",
    "task_description = \"I am analyzing political lean in online news forums.\"\n",
    "attribute_dict = {\n",
    "    'talks about politics': \"The 'talks about politics' attribute quantifies the extent to which the text is focused on political issues, debates, or events. It is high when politics is a central theme of the discussion, medium when politics is mentioned alongside other topics, and low or zero when politics is not mentioned at all.\",\n",
    "    'democratic leaning': \"The 'democratic leaning' attribute assesses the degree to which the text aligns with or supports values, policies, or figures associated with the Democratic Party. It is high when there is clear support or positive sentiment towards Democratic positions, low when there is minimal or indirect support, and zero when there is no alignment with Democratic views. You should infer this and rate if there in any implicit or explicit support for Democratic views. \",\n",
    "    'republican leaning': \"The 'republican leaning' attribute evaluates the extent to which the text aligns with or supports values, policies, or figures associated with the Republican Party. It is high when there is evident support or positive sentiment towards Republican positions, low when the support is minimal or indirect, and zero when there is no alignment with Republican views. You should infer this and rate if there in any implicit or explicit support for Republican views.\",\n",
    "    'exhibits anger': \"The 'exhibits anger' attribute measures the presence and intensity of anger in the text. It is high when the text displays strong feelings of anger or frustration, especially towards political figures, policies, or events; medium when anger is present but not the dominant emotion; and low or zero when there is no anger.\",\n",
    "    'exhibits rationality': \"The 'exhibits rationality' attribute determines the level of logical reasoning, evidence-based arguments, and objective analysis in the text. It is high when the text is characterized by clear, rational thought processes and a focus on facts; medium when rationality is present but mixed with subjective opinions; and low or zero when the text lacks rational argumentation or is primarily emotional.\"\n",
    "}\n",
    "output_df = await archangel.run_analysis(texts = texts.sample(10),\n",
    "                        attribute_dict = attribute_dict,\n",
    "                        mode = 'ratings',  # 'ratings' or 'classification'\n",
    "                        num_runs = 1,\n",
    "                        save_folder = '/Users/elliottmokski/Downloads/',\n",
    "                        file_name = 'analysis_results.csv',\n",
    "                        model = 'o3-mini',\n",
    "                        reasoning_model=True,\n",
    "                        reset_files = True,\n",
    "                        task_description = task_description)"
   ]
  },
  {
   "cell_type": "code",
   "execution_count": 6,
   "metadata": {},
   "outputs": [],
   "source": [
    "res = pd.read_csv('/Users/elliottmokski/Downloads/analysis_results.csv')"
   ]
  },
  {
   "cell_type": "markdown",
   "metadata": {},
   "source": [
    "## Classification attempt"
   ]
  },
  {
   "cell_type": "code",
   "execution_count": 7,
   "metadata": {},
   "outputs": [],
   "source": [
    "import pandas as pd\n",
    "techs = pd.read_csv('/Users/elliottmokski/Documents/Dynamo Revision/filtered_at_least_one_tech.csv')\n",
    "techs_sample = techs.sample(25)"
   ]
  },
  {
   "cell_type": "code",
   "execution_count": 8,
   "metadata": {},
   "outputs": [],
   "source": [
    "from archangel import *"
   ]
  },
  {
   "cell_type": "code",
   "execution_count": 9,
   "metadata": {},
   "outputs": [],
   "source": [
    "attribute_dict = {\n",
    "    \"general class of technology\": \"\"\"'general class of technology' means the entity is a broad type of technology, of which there are many specific versions. For example, the entities 'electric power', 'steam engine', 'PC', 'airplane', 'artillery', 'smartphone', 'antibiotics' etc would all be classified as 'general class of technology' because they are all technology terms which encompass many more specific technologies that themselves would be well-known.\"\"\",\n",
    "    \n",
    "    \"specific technology\": \"\"\"'specific technology' means the entity is a specific type of tech, but not an explicit tech product. For example, 'safety pin', 'object-oriented programming', 'computer mouse', 'diesel engine', 'floating-gate MOSFET', 'sunglasses', etc all belong to the 'specific technology' class. Critically, any specific name of a tech commercial product should be classified as 'specific tech product', not 'specific technology', which should only be generic versions of a specific tech that are not company specific.\"\"\",\n",
    "    \n",
    "    \"specific tech product\": \"\"\"'specific tech product' means the entity is an explicit tech product that was built by a company or organization. For example, 'iPhone', 'M1 Garand', 'Band-Aid', 'Python', 'Ford Model T', 'Google', 'Prozac', etc would all be classified as 'specific tech product'. Importantly, 'search engine', 'integrated circuit', and 'SSRIs' would instead belong in the 'specific technology' class, because they are not products of a specific company. A 'specific tech product' must be company specific version of a technology. If the entity is not uniquely created by one company or organization, it should be classified as 'specific technology'.\"\"\",\n",
    "    \n",
    "    \"tech process\": \"\"\"'tech process' means the entity is an invented process on how to make or use a technology. For example, 'Bessemer process', 'assembly line', 'interchangeable parts', various mining and agricultural practices, and so on would be classified as 'tech process' because they were not specific technologies but technological methodologies of manufacturing, service, or agriculture which were invented. These should be fairly specific processes.\"\"\",\n",
    "    \n",
    "    \"fabrication\": \"\"\"'fabrication' means the entity is something that was created or synthesized by scientists or inventors, and doesn't occur in nature commonly. Examples are fabricated materials, synthesized drugs,\"\"\",\n",
    "    \n",
    "    \"purely scientific discovery\": \"\"\"'purely scientific discovery' means the entity is a purely scientific discovery, like 'gravity', 'electromagnetism', 'cell theory', 'information theory', 'redox reactions', 'Young's double slit experiment', etc. Importantly, this category does NOT include discoveries that are also technologies or fabrications, like 'electromagnet', 'electrification', 'laser', various materials, etc.\"\"\",\n",
    "    \n",
    "    \"inventor\": \"\"\"'inventor' means the entity is the name of a tech inventor, like 'Thomas Edison' or 'Steve Jobs'.\"\"\",\n",
    "    \n",
    "    \"company\": \"\"\"'company' means the entity is the name of a company, such as 'Bell Labs', 'Apple', 'Standard Oil', etc. If the entity name can be considered a specific tech product as well as a company name, like 'Google', it should be put in the 'specific tech product' class, not here.\"\"\",\n",
    "    \n",
    "    \"infrastructure\": \"\"\"'infrastructure' means the entity is the name of a specific building, train, road, or other specific infrastructure project. Examples would include 'Berlin U-Bahn', 'Beijing Subway', 'Los Angeles International Airport', 'I-95', 'Aswan Dam', 'Chrysler Building', etc. Crucially, this class must not be applied to broader infrastructure technologies, such as 'subway transportation', 'hydroelectric power', 'high speed rail', 'reinforced concrete', etc; these all belong in their respective tech classes.\"\"\",\n",
    "    \n",
    "    \"certainly not a technology\": \"\"\"'certainly not a technology' means the entity is obviously not a technology and not related to technology at all. You should use this for entities which are not at all in the realm of technologies. Examples include 'frog', 'Kylie Jenner', 'standup comedy', and other entities which are very patently not any of the above categories and are not plausibly technologies.\"\"\"\n",
    "}"
   ]
  },
  {
   "cell_type": "code",
   "execution_count": 14,
   "metadata": {},
   "outputs": [
    {
     "name": "stdout",
     "output_type": "stream",
     "text": [
      "Creating a new file at /Users/elliottmokski/Downloads/classification_analysis_results.csv\n",
      "Estimated cost: 0.263 USD\n",
      "Model used: o3-mini\n",
      "Total prompts to process: 25\n",
      "Truncated 0 prompts out of 25 (0.00%).\n"
     ]
    },
    {
     "name": "stderr",
     "output_type": "stream",
     "text": [
      "Processing prompts: 100%|██████████| 25/25 [00:21<00:00,  1.18it/s]"
     ]
    },
    {
     "name": "stdout",
     "output_type": "stream",
     "text": [
      "Results saved to /Users/elliottmokski/Downloads/classification_analysis_results_responses.csv\n",
      "All responses saved to /Users/elliottmokski/Downloads/classification_analysis_results_responses.csv\n",
      "\n",
      "Time taken summary (in seconds):\n",
      "0th percentile: 1.92\n",
      "10th percentile: 3.23\n",
      "25th percentile: 3.99\n",
      "50th percentile: 7.72\n",
      "75th percentile: 15.25\n",
      "90th percentile: 16.83\n",
      "95th percentile: 18.91\n",
      "99th percentile: 20.14\n",
      "100th percentile: 20.38\n"
     ]
    },
    {
     "name": "stderr",
     "output_type": "stream",
     "text": [
      "\n"
     ]
    }
   ],
   "source": [
    "archangel = Archangel(api_key = api_key)\n",
    "classification_output_df = await archangel.run_analysis(texts = techs_sample['processed_title'],\n",
    "                        attribute_dict = attribute_dict,\n",
    "                        mode = 'classification',  # 'ratings' or 'classification'\n",
    "                        num_runs = 2,\n",
    "                        save_folder = '/Users/elliottmokski/Downloads/',\n",
    "                        file_name = 'classification_analysis_results.csv',\n",
    "                        model = 'o3-mini',\n",
    "                        n_parallels = 100,\n",
    "                        reset_files = True)"
   ]
  },
  {
   "cell_type": "markdown",
   "metadata": {},
   "source": [
    "# ELO Attempt"
   ]
  },
  {
   "cell_type": "code",
   "execution_count": 3,
   "metadata": {},
   "outputs": [
    {
     "name": "stdout",
     "output_type": "stream",
     "text": [
      "/Users/elliottmokski/Documents/GABRIEL-distribution/gabriel/Prompts\n",
      "Model used: gpt-4o-mini\n",
      "Total prompts to process: 0\n",
      "No new prompts to process.\n",
      "Model used: gpt-4o-mini\n",
      "Total prompts to process: 0\n",
      "No new prompts to process.\n",
      "Model used: gpt-4o-mini\n",
      "Total prompts to process: 0\n",
      "No new prompts to process.\n",
      "Final ELO standings:\n",
      "                                                text          elo\n",
      "0  A blog post with personal opinions and anecdot...  1208.368153\n",
      "1      Some text about climate science and findings.  1207.631847\n",
      "2  A news snippet about a politician's stance on ...  1192.368153\n",
      "3  An academic paper abstract discussing greenhou...  1191.631847\n"
     ]
    }
   ],
   "source": [
    "import asyncio\n",
    "from gabriel.elo_ratings_code import *\n",
    "from gabriel.openai_api_calls import OpenAIClient  # Your existing OpenAIClient\n",
    "\n",
    "# 1) Create the OpenAI client\n",
    "client = OpenAIClient(api_key=)\n",
    "\n",
    "# 2) Define texts\n",
    "texts = [\n",
    "    \"Some text about climate science and findings.\",\n",
    "    \"A news snippet about a politician's stance on climate change.\",\n",
    "    \"An academic paper abstract discussing greenhouse gas effects.\",\n",
    "    \"A blog post with personal opinions and anecdotes on weather patterns.\"\n",
    "]\n",
    "\n",
    "# 3) Provide axis and user clarifications\n",
    "axis_of_interest = \"climate-science expertise\"\n",
    "user_description = (\n",
    "    \"We want to see which text demonstrates the greatest depth, clarity, \"\n",
    "    \"and correctness regarding climate science. Compare them carefully.\"\n",
    ")\n",
    "\n",
    "# 4) Create the comparator\n",
    "comparator = ELOComparator(\n",
    "    openai_client=client,\n",
    "    texts=texts,\n",
    "    axis_of_interest=axis_of_interest,\n",
    "    user_description=user_description,\n",
    "    prompt_template_path=\"elo_prompt.j2\",\n",
    "    k_factor=16\n",
    ")\n",
    "\n",
    "# 5) Run 10 rounds of matchups\n",
    "await comparator.run_elo(num_rounds=3)\n",
    "\n",
    "# 6) Get final results\n",
    "results = comparator.get_results()\n",
    "print(\"Final ELO standings:\")\n",
    "print(results)"
   ]
  },
  {
   "cell_type": "code",
   "execution_count": 4,
   "metadata": {},
   "outputs": [
    {
     "data": {
      "text/html": [
       "<div>\n",
       "<style scoped>\n",
       "    .dataframe tbody tr th:only-of-type {\n",
       "        vertical-align: middle;\n",
       "    }\n",
       "\n",
       "    .dataframe tbody tr th {\n",
       "        vertical-align: top;\n",
       "    }\n",
       "\n",
       "    .dataframe thead th {\n",
       "        text-align: right;\n",
       "    }\n",
       "</style>\n",
       "<table border=\"1\" class=\"dataframe\">\n",
       "  <thead>\n",
       "    <tr style=\"text-align: right;\">\n",
       "      <th></th>\n",
       "      <th>text</th>\n",
       "      <th>elo</th>\n",
       "    </tr>\n",
       "  </thead>\n",
       "  <tbody>\n",
       "    <tr>\n",
       "      <th>0</th>\n",
       "      <td>A blog post with personal opinions and anecdot...</td>\n",
       "      <td>1208.368153</td>\n",
       "    </tr>\n",
       "    <tr>\n",
       "      <th>1</th>\n",
       "      <td>Some text about climate science and findings.</td>\n",
       "      <td>1207.631847</td>\n",
       "    </tr>\n",
       "    <tr>\n",
       "      <th>2</th>\n",
       "      <td>A news snippet about a politician's stance on ...</td>\n",
       "      <td>1192.368153</td>\n",
       "    </tr>\n",
       "    <tr>\n",
       "      <th>3</th>\n",
       "      <td>An academic paper abstract discussing greenhou...</td>\n",
       "      <td>1191.631847</td>\n",
       "    </tr>\n",
       "  </tbody>\n",
       "</table>\n",
       "</div>"
      ],
      "text/plain": [
       "                                                text          elo\n",
       "0  A blog post with personal opinions and anecdot...  1208.368153\n",
       "1      Some text about climate science and findings.  1207.631847\n",
       "2  A news snippet about a politician's stance on ...  1192.368153\n",
       "3  An academic paper abstract discussing greenhou...  1191.631847"
      ]
     },
     "execution_count": 4,
     "metadata": {},
     "output_type": "execute_result"
    }
   ],
   "source": [
    "results"
   ]
  },
  {
   "cell_type": "markdown",
   "metadata": {},
   "source": [
    "## Junk"
   ]
  },
  {
   "cell_type": "code",
   "execution_count": 17,
   "metadata": {},
   "outputs": [],
   "source": [
    "# from gabriel.archangel import Archangel\n",
    "# archangel = Archangel(api_key = '')\n",
    "# texts = ['This is a funny story' , \"This is a sad story\",\"John broke his leg\",'Archangel is a great tool','Archangel is a bad tool']\n",
    "# attribute_dict = {'happy':'happiness refers to joy and positivity','sad':'sad refers to sadness'}\n",
    "# task_description = 'I am rating sentiment in short stories'\n",
    "# archangel.rate_texts(texts, reset_files = True, task_description = task_description, attribute_dict= attribute_dict, save_folder = '/Users/elliottmokski/Downloads/', file_name = 'short_story_test_v9.csv', use_batch = True)"
   ]
  },
  {
   "cell_type": "code",
   "execution_count": 12,
   "metadata": {},
   "outputs": [],
   "source": [
    "import pandas as pd\n",
    "test = pd.read_csv('/Users/elliottmokski/Downloads/short_story_test_v4_batch_metadata.csv', index_col = 0)\n",
    "raw = pd.read_json('/Users/elliottmokski/Library/Application Support/GABRIEL Batch Calls/short_story_test_v4.jsonl', lines = True)"
   ]
  },
  {
   "cell_type": "code",
   "execution_count": 16,
   "metadata": {},
   "outputs": [
    {
     "name": "stdout",
     "output_type": "stream",
     "text": [
      "The status of your batch is: completed\n"
     ]
    },
    {
     "data": {
      "text/html": [
       "<div>\n",
       "<style scoped>\n",
       "    .dataframe tbody tr th:only-of-type {\n",
       "        vertical-align: middle;\n",
       "    }\n",
       "\n",
       "    .dataframe tbody tr th {\n",
       "        vertical-align: top;\n",
       "    }\n",
       "\n",
       "    .dataframe thead th {\n",
       "        text-align: right;\n",
       "    }\n",
       "</style>\n",
       "<table border=\"1\" class=\"dataframe\">\n",
       "  <thead>\n",
       "    <tr style=\"text-align: right;\">\n",
       "      <th></th>\n",
       "      <th>internal logic for gpt eyes only</th>\n",
       "      <th>happy</th>\n",
       "      <th>sad</th>\n",
       "      <th>Text</th>\n",
       "    </tr>\n",
       "  </thead>\n",
       "  <tbody>\n",
       "    <tr>\n",
       "      <th>0</th>\n",
       "      <td>The passage 'This is a funny story' presents a...</td>\n",
       "      <td>88</td>\n",
       "      <td>12</td>\n",
       "      <td>This is a funny story</td>\n",
       "    </tr>\n",
       "    <tr>\n",
       "      <th>1</th>\n",
       "      <td>Upon analyzing the passage provided, it is cru...</td>\n",
       "      <td>0</td>\n",
       "      <td>100</td>\n",
       "      <td>This is a sad story</td>\n",
       "    </tr>\n",
       "    <tr>\n",
       "      <th>2</th>\n",
       "      <td>The passage 'John broke his leg' does not exhi...</td>\n",
       "      <td>4</td>\n",
       "      <td>6</td>\n",
       "      <td>John broke his leg</td>\n",
       "    </tr>\n",
       "    <tr>\n",
       "      <th>3</th>\n",
       "      <td>The passage 'Archangel is a great tool' convey...</td>\n",
       "      <td>85</td>\n",
       "      <td>5</td>\n",
       "      <td>Archangel is a great tool</td>\n",
       "    </tr>\n",
       "    <tr>\n",
       "      <th>4</th>\n",
       "      <td>The passage 'Archangel is a bad tool' conveys ...</td>\n",
       "      <td>0</td>\n",
       "      <td>0</td>\n",
       "      <td>Archangel is a bad tool</td>\n",
       "    </tr>\n",
       "  </tbody>\n",
       "</table>\n",
       "</div>"
      ],
      "text/plain": [
       "                    internal logic for gpt eyes only happy  sad  \\\n",
       "0  The passage 'This is a funny story' presents a...    88   12   \n",
       "1  Upon analyzing the passage provided, it is cru...     0  100   \n",
       "2  The passage 'John broke his leg' does not exhi...     4    6   \n",
       "3  The passage 'Archangel is a great tool' convey...    85    5   \n",
       "4  The passage 'Archangel is a bad tool' conveys ...     0    0   \n",
       "\n",
       "                        Text  \n",
       "0      This is a funny story  \n",
       "1        This is a sad story  \n",
       "2         John broke his leg  \n",
       "3  Archangel is a great tool  \n",
       "4    Archangel is a bad tool  "
      ]
     },
     "execution_count": 16,
     "metadata": {},
     "output_type": "execute_result"
    }
   ],
   "source": [
    "from gabriel.openai_api_calls import BatchRunner\n",
    "BatchRunner('').retrieve_batch('/Users/elliottmokski/Downloads/short_story_test_v9.csv')"
   ]
  },
  {
   "cell_type": "code",
   "execution_count": 3,
   "metadata": {},
   "outputs": [
    {
     "data": {
      "text/html": [
       "<div>\n",
       "<style scoped>\n",
       "    .dataframe tbody tr th:only-of-type {\n",
       "        vertical-align: middle;\n",
       "    }\n",
       "\n",
       "    .dataframe tbody tr th {\n",
       "        vertical-align: top;\n",
       "    }\n",
       "\n",
       "    .dataframe thead th {\n",
       "        text-align: right;\n",
       "    }\n",
       "</style>\n",
       "<table border=\"1\" class=\"dataframe\">\n",
       "  <thead>\n",
       "    <tr style=\"text-align: right;\">\n",
       "      <th></th>\n",
       "      <th>internal logic for gpt eyes only</th>\n",
       "      <th>happy</th>\n",
       "      <th>sad</th>\n",
       "      <th>Text</th>\n",
       "    </tr>\n",
       "  </thead>\n",
       "  <tbody>\n",
       "    <tr>\n",
       "      <th>0</th>\n",
       "      <td>The passage consists of the statement 'This is...</td>\n",
       "      <td>80</td>\n",
       "      <td>20</td>\n",
       "      <td>This is a funny story</td>\n",
       "    </tr>\n",
       "    <tr>\n",
       "      <th>1</th>\n",
       "      <td>The passage consists of a simple statement 'Th...</td>\n",
       "      <td>0</td>\n",
       "      <td>100</td>\n",
       "      <td>This is a sad story</td>\n",
       "    </tr>\n",
       "    <tr>\n",
       "      <th>2</th>\n",
       "      <td>Upon careful analysis of the passage, it is ev...</td>\n",
       "      <td>0</td>\n",
       "      <td>0</td>\n",
       "      <td>John broke his leg</td>\n",
       "    </tr>\n",
       "    <tr>\n",
       "      <th>3</th>\n",
       "      <td>The passage 'Archangel is a great tool' carrie...</td>\n",
       "      <td>18</td>\n",
       "      <td>12</td>\n",
       "      <td>Archangel is a great tool</td>\n",
       "    </tr>\n",
       "    <tr>\n",
       "      <th>4</th>\n",
       "      <td>The passage 'Archangel is a bad tool' conveys ...</td>\n",
       "      <td>12</td>\n",
       "      <td>75</td>\n",
       "      <td>Archangel is a bad tool</td>\n",
       "    </tr>\n",
       "  </tbody>\n",
       "</table>\n",
       "</div>"
      ],
      "text/plain": [
       "                    internal logic for gpt eyes only  happy  sad  \\\n",
       "0  The passage consists of the statement 'This is...     80   20   \n",
       "1  The passage consists of a simple statement 'Th...      0  100   \n",
       "2  Upon careful analysis of the passage, it is ev...      0    0   \n",
       "3  The passage 'Archangel is a great tool' carrie...     18   12   \n",
       "4  The passage 'Archangel is a bad tool' conveys ...     12   75   \n",
       "\n",
       "                        Text  \n",
       "0      This is a funny story  \n",
       "1        This is a sad story  \n",
       "2         John broke his leg  \n",
       "3  Archangel is a great tool  \n",
       "4    Archangel is a bad tool  "
      ]
     },
     "execution_count": 3,
     "metadata": {},
     "output_type": "execute_result"
    }
   ],
   "source": [
    "import pandas as pd\n",
    "pd.read_csv('/Users/elliottmokski/Downloads/short_story_test_v5.csv')"
   ]
  },
  {
   "cell_type": "code",
   "execution_count": 10,
   "metadata": {},
   "outputs": [],
   "source": [
    "from openai import OpenAI\n",
    "client = OpenAI(api_key = ' ')"
   ]
  },
  {
   "cell_type": "code",
   "execution_count": 13,
   "metadata": {},
   "outputs": [
    {
     "data": {
      "text/plain": [
       "Batch(id='batch_swVBC9X0NVcK5xuBaJj9rGmM', completion_window='24h', created_at=1718829780, endpoint='/v1/chat/completions', input_file_id='file-8oH3VvIL1IoEtt7N5MDZJdh8', object='batch', status='failed', cancelled_at=None, cancelling_at=None, completed_at=None, error_file_id=None, errors=Errors(data=[BatchError(code='invalid_type', line=1, message=\"Invalid type for 'custom_id': expected a string, but got an integer instead.\", param='custom_id'), BatchError(code='invalid_type', line=2, message=\"Invalid type for 'custom_id': expected a string, but got an integer instead.\", param='custom_id'), BatchError(code='invalid_type', line=3, message=\"Invalid type for 'custom_id': expected a string, but got an integer instead.\", param='custom_id'), BatchError(code='invalid_type', line=4, message=\"Invalid type for 'custom_id': expected a string, but got an integer instead.\", param='custom_id'), BatchError(code='invalid_type', line=5, message=\"Invalid type for 'custom_id': expected a string, but got an integer instead.\", param='custom_id')], object='list'), expired_at=None, expires_at=1718916180, failed_at=1718829781, finalizing_at=None, in_progress_at=None, metadata={'description': 'I am rating sentiment in short stories'}, output_file_id=None, request_counts=BatchRequestCounts(completed=0, failed=0, total=0))"
      ]
     },
     "execution_count": 13,
     "metadata": {},
     "output_type": "execute_result"
    }
   ],
   "source": [
    "client.batches.retrieve(test.loc['id','Value'])"
   ]
  },
  {
   "cell_type": "code",
   "execution_count": 2,
   "metadata": {},
   "outputs": [],
   "source": [
    "#open /Users/elliottmokski/Library/Application Support/GABRIEL Batch Calls/short_story_test.jsonl\n",
    "import pandas as pd\n",
    "df = pd.read_json('/Users/elliottmokski/Library/Application Support/GABRIEL Batch Calls/short_story_test.jsonl', lines = True)\n"
   ]
  },
  {
   "cell_type": "code",
   "execution_count": 5,
   "metadata": {},
   "outputs": [],
   "source": [
    "attribute_dict = {'happy':'happiness refers to joy and positivity','sad':'sad refers to sadness'}\n",
    "\n",
    "params = {\n",
    "    'entity_category': '', 'attribute_category': '', 'api_key': api_key,\n",
    "    'model': 'gpt-3.5-turbo', 'temperature': 0.8,\n",
    "    'use_classification': False, 'format': 'json', 'project_probs': False, 'truncate': True,\n",
    "    'seed': None, 'timeout': 75, 'truncate_len': 9500, 'classification_clarification':'','text':'John broke his foot'\n",
    "}\n",
    "\n",
    "assistant = CombinedAssistant(api_key = api_key)\n",
    "output_df = assistant.rate_single_text(attribute_dict= attribute_dict, **params)"
   ]
  },
  {
   "cell_type": "code",
   "execution_count": 5,
   "metadata": {},
   "outputs": [],
   "source": [
    "import pandas as pd\n",
    "imdb = pd.read_csv('/Users/elliottmokski/Downloads/IMDB Dataset.csv')"
   ]
  },
  {
   "cell_type": "code",
   "execution_count": 18,
   "metadata": {},
   "outputs": [
    {
     "ename": "NameError",
     "evalue": "name 'api_key' is not defined",
     "output_type": "error",
     "traceback": [
      "\u001b[0;31m---------------------------------------------------------------------------\u001b[0m",
      "\u001b[0;31mNameError\u001b[0m                                 Traceback (most recent call last)",
      "\u001b[0;32m<ipython-input-18-6b6e9e77ba1f>\u001b[0m in \u001b[0;36m<module>\u001b[0;34m\u001b[0m\n\u001b[1;32m      4\u001b[0m                 \u001b[0;34m\"negativity\"\u001b[0m\u001b[0;34m:\u001b[0m\u001b[0;34m\"The 'negativity' attribute refers to the extent to which the text has a negative attitude towards the film, indicating that the reviewer did not enjoy the film or has a low opinion of it\"\u001b[0m\u001b[0;34m,\u001b[0m\u001b[0;34m\u001b[0m\u001b[0;34m\u001b[0m\u001b[0m\n\u001b[1;32m      5\u001b[0m                   \"discusses food\": \"The 'discusses food' attribute is high when the text in question mentions food a lot or otherwise focuses on food. It is low if food mentions are rare, and 0 if there is no mention or allusion to food at all.\"}\n\u001b[0;32m----> 6\u001b[0;31m \u001b[0marchangel\u001b[0m \u001b[0;34m=\u001b[0m \u001b[0mArchangel\u001b[0m\u001b[0;34m(\u001b[0m\u001b[0mapi_key\u001b[0m \u001b[0;34m=\u001b[0m \u001b[0mapi_key\u001b[0m\u001b[0;34m)\u001b[0m\u001b[0;34m\u001b[0m\u001b[0;34m\u001b[0m\u001b[0m\n\u001b[0m\u001b[1;32m      7\u001b[0m \u001b[0mtexts\u001b[0m \u001b[0;34m=\u001b[0m \u001b[0mimdb\u001b[0m\u001b[0;34m[\u001b[0m\u001b[0;34m'review'\u001b[0m\u001b[0;34m]\u001b[0m\u001b[0;34m[\u001b[0m\u001b[0;34m:\u001b[0m\u001b[0;36m100\u001b[0m\u001b[0;34m]\u001b[0m\u001b[0;34m\u001b[0m\u001b[0;34m\u001b[0m\u001b[0m\n\u001b[1;32m      8\u001b[0m \u001b[0mtask_description\u001b[0m \u001b[0;34m=\u001b[0m \u001b[0;34m'I am rating sentiment in IMBD reviews'\u001b[0m\u001b[0;34m\u001b[0m\u001b[0;34m\u001b[0m\u001b[0m\n",
      "\u001b[0;31mNameError\u001b[0m: name 'api_key' is not defined"
     ]
    }
   ],
   "source": [
    "attribute_dict = {\"happy\": \"\"\"The 'happy' attribute refers to the extent to which the text has a positive or happy attitude. It is high if the text manifest a clearly jovial or positive sentiment.\"\"\",\n",
    "                  \"sad\":\"The 'sad' attribute refers to whether the text has an overall sad or glum sentiment. It is high if the text showcases a largely sad or depressing sentiment.\",\n",
    "                  \"positivity\":\"The 'positivity' attribute refers to the extent to which the text has a positive or supportive attitude towards the film, indicating that the reviewer has a high opinion of the film\",\n",
    "                \"negativity\":\"The 'negativity' attribute refers to the extent to which the text has a negative attitude towards the film, indicating that the reviewer did not enjoy the film or has a low opinion of it\",\n",
    "                  \"discusses food\": \"The 'discusses food' attribute is high when the text in question mentions food a lot or otherwise focuses on food. It is low if food mentions are rare, and 0 if there is no mention or allusion to food at all.\"}\n",
    "archangel = Archangel(api_key = api_key)\n",
    "texts = imdb['review'][:100]\n",
    "task_description = 'I am rating sentiment in IMBD reviews'\n",
    "archangel.rate_texts(texts, reset_files = True, task_description = task_description, attribute_dict= attribute_dict, save_folder = '/Users/elliottmokski/Downloads/', file_name = 'imdb_test.csv')"
   ]
  },
  {
   "cell_type": "code",
   "execution_count": null,
   "metadata": {},
   "outputs": [],
   "source": []
  },
  {
   "cell_type": "code",
   "execution_count": null,
   "metadata": {},
   "outputs": [],
   "source": []
  }
 ],
 "metadata": {
  "kernelspec": {
   "display_name": "base",
   "language": "python",
   "name": "python3"
  },
  "language_info": {
   "codemirror_mode": {
    "name": "ipython",
    "version": 3
   },
   "file_extension": ".py",
   "mimetype": "text/x-python",
   "name": "python",
   "nbconvert_exporter": "python",
   "pygments_lexer": "ipython3",
   "version": "3.8.5"
  }
 },
 "nbformat": 4,
 "nbformat_minor": 2
}
