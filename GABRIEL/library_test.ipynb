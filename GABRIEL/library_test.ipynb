{
 "cells": [
  {
   "cell_type": "code",
   "execution_count": 5,
   "metadata": {},
   "outputs": [],
   "source": [
    "from GABRIEL.combined_assistant import CombinedAssistant\n",
    "import os\n",
    "\n",
    "api_key = os.getenv('OPENAI_API_KEY')"
   ]
  },
  {
   "cell_type": "code",
   "execution_count": 6,
   "metadata": {},
   "outputs": [],
   "source": [
    "from GABRIEL import foundational_functions\n",
    "\n",
    "# Determine the path to the 'Prompts' folder dynamically\n",
    "package_dir = os.path.dirname(os.path.abspath(foundational_functions.__file__))\n",
    "templates_dir = os.path.join(package_dir, 'Prompts')"
   ]
  },
  {
   "cell_type": "code",
   "execution_count": 8,
   "metadata": {},
   "outputs": [],
   "source": [
    "from jinja2 import Environment, FileSystemLoader, select_autoescape\n",
    "\n",
    "env = Environment(\n",
    "    loader=FileSystemLoader(templates_dir),\n",
    "    autoescape=select_autoescape()\n",
    ")"
   ]
  },
  {
   "cell_type": "code",
   "execution_count": 9,
   "metadata": {},
   "outputs": [],
   "source": [
    "combined_assistant = CombinedAssistant(api_key)"
   ]
  },
  {
   "cell_type": "code",
   "execution_count": 10,
   "metadata": {},
   "outputs": [],
   "source": [
    "texts = ['This is a funny story' , \"This is a sad story\",\"John broke his leg\"]\n",
    "attributes = ['happy, sad, angry, surprised, grateful']"
   ]
  },
  {
   "cell_type": "code",
   "execution_count": 11,
   "metadata": {},
   "outputs": [
    {
     "name": "stdout",
     "output_type": "stream",
     "text": [
      "Attributes extracted\n",
      "Attributes ['happy, sad, angry, surprised, grateful']\n",
      "['In the context of None, the happy, sad, angry, surprised, and grateful attribute refers to representing emotions or feelings in a hypothetical or unspecified situation where these emotions may be experienced. It can serve as a placeholder or variable for various emotional states that can be assigned or identified within a given scenario.']\n",
      "Descriptions extracted, running ratings.\n",
      "                    Text  happy  sad  angry  surprised  grateful\n",
      "0  This is a funny story     20   10      5         30         0\n",
      "1    This is a sad story      0  100      0          0         0\n",
      "2     John broke his leg      0   65     42         10         5\n"
     ]
    },
    {
     "data": {
      "text/html": [
       "<div>\n",
       "<style scoped>\n",
       "    .dataframe tbody tr th:only-of-type {\n",
       "        vertical-align: middle;\n",
       "    }\n",
       "\n",
       "    .dataframe tbody tr th {\n",
       "        vertical-align: top;\n",
       "    }\n",
       "\n",
       "    .dataframe thead th {\n",
       "        text-align: right;\n",
       "    }\n",
       "</style>\n",
       "<table border=\"1\" class=\"dataframe\">\n",
       "  <thead>\n",
       "    <tr style=\"text-align: right;\">\n",
       "      <th></th>\n",
       "      <th>Text</th>\n",
       "      <th>happy</th>\n",
       "      <th>sad</th>\n",
       "      <th>angry</th>\n",
       "      <th>surprised</th>\n",
       "      <th>grateful</th>\n",
       "    </tr>\n",
       "  </thead>\n",
       "  <tbody>\n",
       "    <tr>\n",
       "      <th>0</th>\n",
       "      <td>This is a funny story</td>\n",
       "      <td>20</td>\n",
       "      <td>10</td>\n",
       "      <td>5</td>\n",
       "      <td>30</td>\n",
       "      <td>0</td>\n",
       "    </tr>\n",
       "    <tr>\n",
       "      <th>1</th>\n",
       "      <td>This is a sad story</td>\n",
       "      <td>0</td>\n",
       "      <td>100</td>\n",
       "      <td>0</td>\n",
       "      <td>0</td>\n",
       "      <td>0</td>\n",
       "    </tr>\n",
       "    <tr>\n",
       "      <th>2</th>\n",
       "      <td>John broke his leg</td>\n",
       "      <td>0</td>\n",
       "      <td>65</td>\n",
       "      <td>42</td>\n",
       "      <td>10</td>\n",
       "      <td>5</td>\n",
       "    </tr>\n",
       "  </tbody>\n",
       "</table>\n",
       "</div>"
      ],
      "text/plain": [
       "                    Text  happy  sad  angry  surprised  grateful\n",
       "0  This is a funny story     20   10      5         30         0\n",
       "1    This is a sad story      0  100      0          0         0\n",
       "2     John broke his leg      0   65     42         10         5"
      ]
     },
     "execution_count": 11,
     "metadata": {},
     "output_type": "execute_result"
    }
   ],
   "source": [
    "combined_assistant.simple_evaluation_pipeline(search_axis_1 = texts, attributes = attributes)"
   ]
  }
 ],
 "metadata": {
  "kernelspec": {
   "display_name": "base",
   "language": "python",
   "name": "python3"
  },
  "language_info": {
   "codemirror_mode": {
    "name": "ipython",
    "version": 3
   },
   "file_extension": ".py",
   "mimetype": "text/x-python",
   "name": "python",
   "nbconvert_exporter": "python",
   "pygments_lexer": "ipython3",
   "version": "3.8.5"
  }
 },
 "nbformat": 4,
 "nbformat_minor": 2
}
